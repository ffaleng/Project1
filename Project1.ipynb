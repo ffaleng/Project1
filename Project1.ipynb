{
  "cells": [
    {
      "cell_type": "markdown",
      "metadata": {
        "id": "UX2rR-AEJ1iV"
      },
      "source": [
        "# Math 5750/6880 – Project 1 Notebook\n",
        "\n",
        "This notebook contains three parts required for the **Progress Report**:\n",
        "1. Project Euler Problem 1\n",
        "2. California Housing Regression (baseline Linear Regression)\n",
        "3. Breast Cancer Classification (baseline SVM)\n",
        "\n",
        "Run all cells in order. Figures will be saved as PNG files for inclusion in your LaTeX report:\n",
        "- `reg_pred_vs_true.png`\n",
        "- `reg_error_hist.png`\n",
        "- `cls_roc.png`\n",
        "- `cls_pr.png`\n"
      ],
      "id": "UX2rR-AEJ1iV"
    },
    {
      "cell_type": "code",
      "source": [],
      "metadata": {
        "id": "4UCyoRiJKmbC"
      },
      "id": "4UCyoRiJKmbC",
      "execution_count": null,
      "outputs": []
    },
    {
      "cell_type": "markdown",
      "metadata": {
        "id": "6ZFXLZVVJ1iW"
      },
      "source": [
        "## 0. Environment check\n",
        "Make sure basic packages are available. If you are in Colab, these should be preinstalled."
      ],
      "id": "6ZFXLZVVJ1iW"
    },
    {
      "cell_type": "code",
      "execution_count": null,
      "metadata": {
        "colab": {
          "base_uri": "https://localhost:8080/"
        },
        "id": "K9WlSOTuJ1iW",
        "outputId": "6b023dee-cdef-4003-e098-38047b6146d3"
      },
      "outputs": [
        {
          "output_type": "stream",
          "name": "stdout",
          "text": [
            "3.12.11 (main, Jun  4 2025, 08:56:18) [GCC 11.4.0]\n",
            "numpy 2.0.2\n",
            "pandas 2.2.2\n",
            "sklearn 1.6.1\n",
            "matplotlib 3.10.0\n"
          ]
        }
      ],
      "source": [
        "import sys, numpy, pandas, sklearn, matplotlib\n",
        "print(sys.version)\n",
        "print('numpy', numpy.__version__)\n",
        "print('pandas', pandas.__version__)\n",
        "print('sklearn', sklearn.__version__)\n",
        "print('matplotlib', matplotlib.__version__)"
      ],
      "id": "K9WlSOTuJ1iW"
    },
    {
      "cell_type": "markdown",
      "metadata": {
        "id": "FfBSCkZEJ1iX"
      },
      "source": [
        "## 1. Project Euler Problem 1\n",
        "Sum of all natural numbers below 1000 that are multiples of 3 or 5.\n",
        "\n",
        "**Expected answer:** 233168"
      ],
      "id": "FfBSCkZEJ1iX"
    },
    {
      "cell_type": "code",
      "execution_count": null,
      "metadata": {
        "colab": {
          "base_uri": "https://localhost:8080/"
        },
        "id": "p0QgnPihJ1iX",
        "outputId": "5cd9df06-141b-47ec-9210-6889968ed7a9"
      },
      "outputs": [
        {
          "output_type": "stream",
          "name": "stdout",
          "text": [
            "Project Euler Problem 1 answer = 233168\n"
          ]
        }
      ],
      "source": [
        "def pe1(n=1000):\n",
        "    return sum(x for x in range(n) if (x % 3 == 0) or (x % 5 == 0))\n",
        "\n",
        "ans_pe1 = pe1()\n",
        "print('Project Euler Problem 1 answer =', ans_pe1)"
      ],
      "id": "p0QgnPihJ1iX"
    },
    {
      "cell_type": "markdown",
      "metadata": {
        "id": "z8AffnFmJ1iX"
      },
      "source": [
        "## 2. California Housing Regression (Linear Regression baseline)\n",
        "We will:\n",
        "- Load the dataset\n",
        "- Split into train/test\n",
        "- Fit Linear Regression\n",
        "- Report Train/Test R², MAE, RMSE\n",
        "- Save two figures: Predicted vs True (test), and Error Histogram"
      ],
      "id": "z8AffnFmJ1iX"
    },
    {
      "cell_type": "code",
      "execution_count": null,
      "metadata": {
        "colab": {
          "base_uri": "https://localhost:8080/"
        },
        "id": "V1iyOG1IJ1iX",
        "outputId": "b9cc3f7c-0807-4e9c-c945-47eeb20a997e"
      },
      "outputs": [
        {
          "output_type": "stream",
          "name": "stdout",
          "text": [
            "Train  R2/MAE/RMSE: 0.6125511913966952 0.5286283596581922 0.7196757085831575\n",
            "Test   R2/MAE/RMSE: 0.5757877060324508 0.5332001304956553 0.7455813830127764\n",
            "\n",
            "===== REGRESSION METRICS (copy these into your LaTeX) =====\n",
            "Training R^2: 0.6126\n",
            "Test R^2: 0.5758\n",
            "MAE: 0.5332\n",
            "RMSE: 0.7456\n"
          ]
        }
      ],
      "source": [
        "import numpy as np\n",
        "import pandas as pd\n",
        "import matplotlib.pyplot as plt\n",
        "from sklearn.datasets import fetch_california_housing\n",
        "from sklearn.model_selection import train_test_split\n",
        "from sklearn.metrics import r2_score, mean_absolute_error, mean_squared_error\n",
        "from sklearn.linear_model import LinearRegression\n",
        "\n",
        "# Load dataset\n",
        "data = fetch_california_housing(as_frame=True)\n",
        "df = data.frame\n",
        "X = df.drop(columns=['MedHouseVal'])\n",
        "y = df['MedHouseVal']\n",
        "\n",
        "# Train/test split\n",
        "X_tr, X_te, y_tr, y_te = train_test_split(X, y, test_size=0.2, random_state=42)\n",
        "\n",
        "# Fit Linear Regression\n",
        "lr = LinearRegression().fit(X_tr, y_tr)\n",
        "pred_tr = lr.predict(X_tr)\n",
        "pred_te = lr.predict(X_te)\n",
        "\n",
        "\n",
        "def metrics(y_true, y_pred):\n",
        "    r2 = r2_score(y_true, y_pred)\n",
        "    mae = mean_absolute_error(y_true, y_pred)\n",
        "    mse = mean_squared_error(y_true, y_pred)\n",
        "    rmse = np.sqrt(mse)\n",
        "    return r2, mae, rmse\n",
        "\n",
        "r2_tr, mae_tr, rmse_tr = metrics(y_tr, pred_tr)\n",
        "r2_te, mae_te, rmse_te = metrics(y_te, pred_te)\n",
        "\n",
        "print('Train  R2/MAE/RMSE:', r2_tr, mae_tr, rmse_tr)\n",
        "print('Test   R2/MAE/RMSE:', r2_te, mae_te, rmse_te)\n",
        "\n",
        "# Figure 1: Predicted vs True (test)\n",
        "plt.figure()\n",
        "plt.scatter(y_te, pred_te, s=8)\n",
        "plt.xlabel('True MedHouseVal')\n",
        "plt.ylabel('Predicted')\n",
        "plt.title('Predicted vs True (Test)')\n",
        "plt.tight_layout()\n",
        "plt.savefig('reg_pred_vs_true.png', dpi=150)\n",
        "plt.close()\n",
        "\n",
        "# Figure 2: Error histogram (test)\n",
        "err = pred_te - y_te\n",
        "plt.figure()\n",
        "plt.hist(err, bins=40)\n",
        "plt.xlabel('Error')\n",
        "plt.ylabel('Count')\n",
        "plt.title('Error Histogram (Test)')\n",
        "plt.tight_layout()\n",
        "plt.savefig('reg_error_hist.png', dpi=150)\n",
        "plt.close()\n",
        "\n",
        "# Print a clean summary block for copy-paste into LaTeX\n",
        "print('\\n===== REGRESSION METRICS (copy these into your LaTeX) =====')\n",
        "print(f'Training R^2: {r2_tr:.4f}')\n",
        "print(f'Test R^2: {r2_te:.4f}')\n",
        "print(f'MAE: {mae_te:.4f}')\n",
        "print(f'RMSE: {rmse_te:.4f}')"
      ],
      "id": "V1iyOG1IJ1iX"
    },
    {
      "cell_type": "markdown",
      "metadata": {
        "id": "CPDlyn04J1iX"
      },
      "source": [
        "## 3. Breast Cancer Classification (SVM baseline)\n",
        "We will:\n",
        "- Load the dataset\n",
        "- Split into train/test (stratified)\n",
        "- Fit SVM (RBF) with standardization pipeline\n",
        "- Report Accuracy, ROC-AUC, Average Precision\n",
        "- Save ROC and PR curves"
      ],
      "id": "CPDlyn04J1iX"
    },
    {
      "cell_type": "code",
      "execution_count": null,
      "metadata": {
        "colab": {
          "base_uri": "https://localhost:8080/"
        },
        "id": "Jx-Ab3wxJ1iX",
        "outputId": "97dc90c1-7a23-4a50-b367-c566bbfe8eab"
      },
      "outputs": [
        {
          "output_type": "stream",
          "name": "stdout",
          "text": [
            "Accuracy: 0.9824561403508771\n",
            "ROC-AUC: 0.9950396825396826\n",
            "Average Precision: 0.9969313924914238\n",
            "Confusion Matrix:\n",
            " [[41  1]\n",
            " [ 1 71]]\n",
            "\n",
            "===== CLASSIFICATION METRICS (copy these into your LaTeX) =====\n",
            "Accuracy: 0.9825\n",
            "ROC-AUC: 0.9950\n",
            "Average Precision: 0.9969\n"
          ]
        }
      ],
      "source": [
        "import numpy as np\n",
        "import matplotlib.pyplot as plt\n",
        "from sklearn.datasets import load_breast_cancer\n",
        "from sklearn.model_selection import train_test_split\n",
        "from sklearn.preprocessing import StandardScaler\n",
        "from sklearn.pipeline import make_pipeline\n",
        "from sklearn.svm import SVC\n",
        "from sklearn.metrics import (accuracy_score, roc_auc_score, average_precision_score,\n",
        "                             confusion_matrix, RocCurveDisplay, PrecisionRecallDisplay)\n",
        "\n",
        "bc = load_breast_cancer(as_frame=True)\n",
        "X, y = bc.data, bc.target\n",
        "X_tr, X_te, y_tr, y_te = train_test_split(X, y, test_size=0.2, random_state=42, stratify=y)\n",
        "\n",
        "clf = make_pipeline(StandardScaler(), SVC(kernel='rbf', probability=True, random_state=42))\n",
        "clf.fit(X_tr, y_tr)\n",
        "\n",
        "proba = clf.predict_proba(X_te)[:, 1]\n",
        "pred  = clf.predict(X_te)\n",
        "\n",
        "acc = accuracy_score(y_te, pred)\n",
        "roc = roc_auc_score(y_te, proba)\n",
        "ap  = average_precision_score(y_te, proba)\n",
        "cm  = confusion_matrix(y_te, pred)\n",
        "\n",
        "print('Accuracy:', acc)\n",
        "print('ROC-AUC:', roc)\n",
        "print('Average Precision:', ap)\n",
        "print('Confusion Matrix:\\n', cm)\n",
        "\n",
        "# ROC curve\n",
        "RocCurveDisplay.from_predictions(y_te, proba)\n",
        "plt.title('ROC Curve (SVM, RBF)')\n",
        "plt.tight_layout()\n",
        "plt.savefig('cls_roc.png', dpi=150)\n",
        "plt.close()\n",
        "\n",
        "# Precision-Recall curve\n",
        "PrecisionRecallDisplay.from_predictions(y_te, proba)\n",
        "plt.title('Precision-Recall (SVM, RBF)')\n",
        "plt.tight_layout()\n",
        "plt.savefig('cls_pr.png', dpi=150)\n",
        "plt.close()\n",
        "\n",
        "print('\\n===== CLASSIFICATION METRICS (copy these into your LaTeX) =====')\n",
        "print(f'Accuracy: {acc:.4f}')\n",
        "print(f'ROC-AUC: {roc:.4f}')\n",
        "print(f'Average Precision: {ap:.4f}')"
      ],
      "id": "Jx-Ab3wxJ1iX"
    },
    {
      "cell_type": "code",
      "source": [
        "from google.colab import files\n",
        "files.download(\"reg_pred_vs_true.png\")\n",
        "files.download(\"reg_error_hist.png\")\n",
        "files.download(\"cls_roc.png\")\n",
        "files.download(\"cls_pr.png\")\n"
      ],
      "metadata": {
        "id": "PIlSxZXoPov8",
        "outputId": "2d3404bb-fab7-4576-a35b-beaba18c7a86",
        "colab": {
          "base_uri": "https://localhost:8080/",
          "height": 17
        }
      },
      "id": "PIlSxZXoPov8",
      "execution_count": null,
      "outputs": [
        {
          "output_type": "display_data",
          "data": {
            "text/plain": [
              "<IPython.core.display.Javascript object>"
            ],
            "application/javascript": [
              "\n",
              "    async function download(id, filename, size) {\n",
              "      if (!google.colab.kernel.accessAllowed) {\n",
              "        return;\n",
              "      }\n",
              "      const div = document.createElement('div');\n",
              "      const label = document.createElement('label');\n",
              "      label.textContent = `Downloading \"${filename}\": `;\n",
              "      div.appendChild(label);\n",
              "      const progress = document.createElement('progress');\n",
              "      progress.max = size;\n",
              "      div.appendChild(progress);\n",
              "      document.body.appendChild(div);\n",
              "\n",
              "      const buffers = [];\n",
              "      let downloaded = 0;\n",
              "\n",
              "      const channel = await google.colab.kernel.comms.open(id);\n",
              "      // Send a message to notify the kernel that we're ready.\n",
              "      channel.send({})\n",
              "\n",
              "      for await (const message of channel.messages) {\n",
              "        // Send a message to notify the kernel that we're ready.\n",
              "        channel.send({})\n",
              "        if (message.buffers) {\n",
              "          for (const buffer of message.buffers) {\n",
              "            buffers.push(buffer);\n",
              "            downloaded += buffer.byteLength;\n",
              "            progress.value = downloaded;\n",
              "          }\n",
              "        }\n",
              "      }\n",
              "      const blob = new Blob(buffers, {type: 'application/binary'});\n",
              "      const a = document.createElement('a');\n",
              "      a.href = window.URL.createObjectURL(blob);\n",
              "      a.download = filename;\n",
              "      div.appendChild(a);\n",
              "      a.click();\n",
              "      div.remove();\n",
              "    }\n",
              "  "
            ]
          },
          "metadata": {}
        },
        {
          "output_type": "display_data",
          "data": {
            "text/plain": [
              "<IPython.core.display.Javascript object>"
            ],
            "application/javascript": [
              "download(\"download_793c09a8-3197-40f4-955d-717c46f116bb\", \"reg_pred_vs_true.png\", 58140)"
            ]
          },
          "metadata": {}
        },
        {
          "output_type": "display_data",
          "data": {
            "text/plain": [
              "<IPython.core.display.Javascript object>"
            ],
            "application/javascript": [
              "\n",
              "    async function download(id, filename, size) {\n",
              "      if (!google.colab.kernel.accessAllowed) {\n",
              "        return;\n",
              "      }\n",
              "      const div = document.createElement('div');\n",
              "      const label = document.createElement('label');\n",
              "      label.textContent = `Downloading \"${filename}\": `;\n",
              "      div.appendChild(label);\n",
              "      const progress = document.createElement('progress');\n",
              "      progress.max = size;\n",
              "      div.appendChild(progress);\n",
              "      document.body.appendChild(div);\n",
              "\n",
              "      const buffers = [];\n",
              "      let downloaded = 0;\n",
              "\n",
              "      const channel = await google.colab.kernel.comms.open(id);\n",
              "      // Send a message to notify the kernel that we're ready.\n",
              "      channel.send({})\n",
              "\n",
              "      for await (const message of channel.messages) {\n",
              "        // Send a message to notify the kernel that we're ready.\n",
              "        channel.send({})\n",
              "        if (message.buffers) {\n",
              "          for (const buffer of message.buffers) {\n",
              "            buffers.push(buffer);\n",
              "            downloaded += buffer.byteLength;\n",
              "            progress.value = downloaded;\n",
              "          }\n",
              "        }\n",
              "      }\n",
              "      const blob = new Blob(buffers, {type: 'application/binary'});\n",
              "      const a = document.createElement('a');\n",
              "      a.href = window.URL.createObjectURL(blob);\n",
              "      a.download = filename;\n",
              "      div.appendChild(a);\n",
              "      a.click();\n",
              "      div.remove();\n",
              "    }\n",
              "  "
            ]
          },
          "metadata": {}
        },
        {
          "output_type": "display_data",
          "data": {
            "text/plain": [
              "<IPython.core.display.Javascript object>"
            ],
            "application/javascript": [
              "download(\"download_5c7ec46d-1b40-4ea5-86f6-fc55de42ac67\", \"reg_error_hist.png\", 23277)"
            ]
          },
          "metadata": {}
        },
        {
          "output_type": "display_data",
          "data": {
            "text/plain": [
              "<IPython.core.display.Javascript object>"
            ],
            "application/javascript": [
              "\n",
              "    async function download(id, filename, size) {\n",
              "      if (!google.colab.kernel.accessAllowed) {\n",
              "        return;\n",
              "      }\n",
              "      const div = document.createElement('div');\n",
              "      const label = document.createElement('label');\n",
              "      label.textContent = `Downloading \"${filename}\": `;\n",
              "      div.appendChild(label);\n",
              "      const progress = document.createElement('progress');\n",
              "      progress.max = size;\n",
              "      div.appendChild(progress);\n",
              "      document.body.appendChild(div);\n",
              "\n",
              "      const buffers = [];\n",
              "      let downloaded = 0;\n",
              "\n",
              "      const channel = await google.colab.kernel.comms.open(id);\n",
              "      // Send a message to notify the kernel that we're ready.\n",
              "      channel.send({})\n",
              "\n",
              "      for await (const message of channel.messages) {\n",
              "        // Send a message to notify the kernel that we're ready.\n",
              "        channel.send({})\n",
              "        if (message.buffers) {\n",
              "          for (const buffer of message.buffers) {\n",
              "            buffers.push(buffer);\n",
              "            downloaded += buffer.byteLength;\n",
              "            progress.value = downloaded;\n",
              "          }\n",
              "        }\n",
              "      }\n",
              "      const blob = new Blob(buffers, {type: 'application/binary'});\n",
              "      const a = document.createElement('a');\n",
              "      a.href = window.URL.createObjectURL(blob);\n",
              "      a.download = filename;\n",
              "      div.appendChild(a);\n",
              "      a.click();\n",
              "      div.remove();\n",
              "    }\n",
              "  "
            ]
          },
          "metadata": {}
        },
        {
          "output_type": "display_data",
          "data": {
            "text/plain": [
              "<IPython.core.display.Javascript object>"
            ],
            "application/javascript": [
              "download(\"download_b4c0040a-27e1-4ddb-bb58-f0bb6b6e0e6f\", \"cls_roc.png\", 39525)"
            ]
          },
          "metadata": {}
        },
        {
          "output_type": "display_data",
          "data": {
            "text/plain": [
              "<IPython.core.display.Javascript object>"
            ],
            "application/javascript": [
              "\n",
              "    async function download(id, filename, size) {\n",
              "      if (!google.colab.kernel.accessAllowed) {\n",
              "        return;\n",
              "      }\n",
              "      const div = document.createElement('div');\n",
              "      const label = document.createElement('label');\n",
              "      label.textContent = `Downloading \"${filename}\": `;\n",
              "      div.appendChild(label);\n",
              "      const progress = document.createElement('progress');\n",
              "      progress.max = size;\n",
              "      div.appendChild(progress);\n",
              "      document.body.appendChild(div);\n",
              "\n",
              "      const buffers = [];\n",
              "      let downloaded = 0;\n",
              "\n",
              "      const channel = await google.colab.kernel.comms.open(id);\n",
              "      // Send a message to notify the kernel that we're ready.\n",
              "      channel.send({})\n",
              "\n",
              "      for await (const message of channel.messages) {\n",
              "        // Send a message to notify the kernel that we're ready.\n",
              "        channel.send({})\n",
              "        if (message.buffers) {\n",
              "          for (const buffer of message.buffers) {\n",
              "            buffers.push(buffer);\n",
              "            downloaded += buffer.byteLength;\n",
              "            progress.value = downloaded;\n",
              "          }\n",
              "        }\n",
              "      }\n",
              "      const blob = new Blob(buffers, {type: 'application/binary'});\n",
              "      const a = document.createElement('a');\n",
              "      a.href = window.URL.createObjectURL(blob);\n",
              "      a.download = filename;\n",
              "      div.appendChild(a);\n",
              "      a.click();\n",
              "      div.remove();\n",
              "    }\n",
              "  "
            ]
          },
          "metadata": {}
        },
        {
          "output_type": "display_data",
          "data": {
            "text/plain": [
              "<IPython.core.display.Javascript object>"
            ],
            "application/javascript": [
              "download(\"download_dbefa959-7409-402d-b46c-2d9f56e9b432\", \"cls_pr.png\", 36285)"
            ]
          },
          "metadata": {}
        }
      ]
    },
    {
      "cell_type": "markdown",
      "metadata": {
        "id": "eyZTGh7xJ1iX"
      },
      "source": [
        "## 4. Next steps (for your Final Report)\n",
        "- Try Ridge/Lasso for regression, or a tree-based model, and compare metrics.\n",
        "- For classification, tune `C` and `gamma`, or compare with Logistic Regression / Random Forest.\n",
        "- Add brief interpretation on important predictors or decision boundaries."
      ],
      "id": "eyZTGh7xJ1iX"
    }
  ],
  "metadata": {
    "kernelspec": {
      "display_name": "Python 3",
      "language": "python",
      "name": "python3"
    },
    "language_info": {
      "name": "python",
      "version": "3.10"
    },
    "colab": {
      "provenance": []
    }
  },
  "nbformat": 4,
  "nbformat_minor": 5
}